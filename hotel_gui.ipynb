{
  "nbformat": 4,
  "nbformat_minor": 0,
  "metadata": {
    "colab": {
      "provenance": []
    },
    "kernelspec": {
      "name": "python3",
      "display_name": "Python 3"
    },
    "language_info": {
      "name": "python"
    }
  },
  "cells": [
    {
      "cell_type": "code",
      "execution_count": 1,
      "metadata": {
        "colab": {
          "base_uri": "https://localhost:8080/",
          "height": 383
        },
        "id": "4ghxIvMyUTZY",
        "outputId": "bd4516d0-4768-4090-b5bb-d95d61093070"
      },
      "outputs": [
        {
          "output_type": "error",
          "ename": "ModuleNotFoundError",
          "evalue": "No module named 'hotel'",
          "traceback": [
            "\u001b[0;31m---------------------------------------------------------------------------\u001b[0m",
            "\u001b[0;31mModuleNotFoundError\u001b[0m                       Traceback (most recent call last)",
            "\u001b[0;32m/tmp/ipython-input-1-3420758037.py\u001b[0m in \u001b[0;36m<cell line: 0>\u001b[0;34m()\u001b[0m\n\u001b[1;32m      2\u001b[0m \u001b[0;32mimport\u001b[0m \u001b[0mtkinter\u001b[0m \u001b[0;32mas\u001b[0m \u001b[0mtk\u001b[0m\u001b[0;34m\u001b[0m\u001b[0;34m\u001b[0m\u001b[0m\n\u001b[1;32m      3\u001b[0m \u001b[0;32mfrom\u001b[0m \u001b[0mtkinter\u001b[0m \u001b[0;32mimport\u001b[0m \u001b[0msimpledialog\u001b[0m\u001b[0;34m,\u001b[0m \u001b[0mmessagebox\u001b[0m\u001b[0;34m,\u001b[0m \u001b[0mttk\u001b[0m\u001b[0;34m\u001b[0m\u001b[0;34m\u001b[0m\u001b[0m\n\u001b[0;32m----> 4\u001b[0;31m \u001b[0;32mfrom\u001b[0m \u001b[0mhotel\u001b[0m \u001b[0;32mimport\u001b[0m \u001b[0mHotel\u001b[0m\u001b[0;34m,\u001b[0m \u001b[0mStandardSuite\u001b[0m\u001b[0;34m,\u001b[0m \u001b[0mDeluxeSuite\u001b[0m\u001b[0;34m,\u001b[0m \u001b[0mPresidentialSuite\u001b[0m\u001b[0;34m,\u001b[0m \u001b[0mCustomer\u001b[0m\u001b[0;34m\u001b[0m\u001b[0;34m\u001b[0m\u001b[0m\n\u001b[0m\u001b[1;32m      5\u001b[0m \u001b[0;34m\u001b[0m\u001b[0m\n\u001b[1;32m      6\u001b[0m \u001b[0mhotel\u001b[0m \u001b[0;34m=\u001b[0m \u001b[0mHotel\u001b[0m\u001b[0;34m(\u001b[0m\u001b[0;34m\"The Grand Heritage\"\u001b[0m\u001b[0;34m)\u001b[0m\u001b[0;34m\u001b[0m\u001b[0;34m\u001b[0m\u001b[0m\n",
            "\u001b[0;31mModuleNotFoundError\u001b[0m: No module named 'hotel'",
            "",
            "\u001b[0;31m---------------------------------------------------------------------------\u001b[0;32m\nNOTE: If your import is failing due to a missing package, you can\nmanually install dependencies using either !pip or !apt.\n\nTo view examples of installing some common dependencies, click the\n\"Open Examples\" button below.\n\u001b[0;31m---------------------------------------------------------------------------\u001b[0m\n"
          ],
          "errorDetails": {
            "actions": [
              {
                "action": "open_url",
                "actionText": "Open Examples",
                "url": "/notebooks/snippets/importing_libraries.ipynb"
              }
            ]
          }
        }
      ],
      "source": [
        "# hotel_gui.py\n",
        "import tkinter as tk\n",
        "from tkinter import simpledialog, messagebox, ttk\n",
        "from hotel import Hotel, StandardSuite, DeluxeSuite, PresidentialSuite, Customer\n",
        "\n",
        "hotel = Hotel(\"The Grand Heritage\")\n",
        "\n",
        "# Add rooms\n",
        "for i in range(101, 104):\n",
        "    hotel.add_room(StandardSuite(i))\n",
        "for i in range(201, 204):\n",
        "    hotel.add_room(DeluxeSuite(i))\n",
        "for i in range(301, 304):\n",
        "    hotel.add_room(PresidentialSuite(i))\n",
        "\n",
        "def book_room():\n",
        "    name = simpledialog.askstring(\"Name\", \"Enter full name:\")\n",
        "    email = simpledialog.askstring(\"Email\", \"Enter email:\")\n",
        "    phone = simpledialog.askstring(\"Phone\", \"Enter 10-digit phone:\")\n",
        "    id_proof = simpledialog.askstring(\"ID\", \"Enter ID proof:\")\n",
        "\n",
        "    customer = Customer(name, email, phone, id_proof)\n",
        "    hotel.add_customer(customer)\n",
        "\n",
        "    room_type = simpledialog.askstring(\"Room Type\", \"1: Standard\\n2: Deluxe\\n3: Presidential\")\n",
        "    checkin = simpledialog.askstring(\"Check-in Date\", \"Enter check-in date (dd/mm/yyyy):\")\n",
        "    duration = simpledialog.askstring(\"Duration\", \"Enter stay duration in days:\")\n",
        "    payment = simpledialog.askstring(\"Payment Mode\", \"1: UPI\\n2: Debit Card\\n3: Credit Card\\n4: Net Banking\\n5: Cash\")\n",
        "\n",
        "    # Simulate existing CLI booking process\n",
        "    customer_input_func = lambda prompt: {\n",
        "        \"Select Room Type (1/2/3): \": room_type,\n",
        "        \"Enter Check-in Date (dd/mm/yyyy): \": checkin,\n",
        "        \"Enter Stay Duration (in days): \": duration,\n",
        "        \"Enter Payment Mode (1-5): \": payment\n",
        "    }[prompt]\n",
        "\n",
        "    # Monkey patch input temporarily (for reuse)\n",
        "    import builtins\n",
        "    original_input = builtins.input\n",
        "    builtins.input = customer_input_func\n",
        "    hotel.book_room(customer)\n",
        "    builtins.input = original_input\n",
        "\n",
        "def cancel_booking():\n",
        "    reg_id = simpledialog.askinteger(\"Cancel\", \"Enter Registration ID:\")\n",
        "    room_no = simpledialog.askinteger(\"Cancel\", \"Enter Room No:\")\n",
        "\n",
        "    def cancel_input(prompt):\n",
        "        return str(reg_id if 'registration' in prompt else room_no)\n",
        "\n",
        "    import builtins\n",
        "    original_input = builtins.input\n",
        "    builtins.input = cancel_input\n",
        "    hotel.cancel_booking()\n",
        "    builtins.input = original_input\n",
        "\n",
        "def show_all_bookings():\n",
        "    output = \"\"\n",
        "    for b in hotel.bookings:\n",
        "        output += f\"Reg No: {b.reg_no}, Name: {b.customer.get_details()['Name']}, Room: {b.room.room_number}\\n\"\n",
        "    messagebox.showinfo(\"Bookings\", output or \"No bookings yet.\")\n",
        "\n",
        "def print_receipt():\n",
        "    password = simpledialog.askstring(\"Admin\", \"Enter admin password:\", show='*')\n",
        "    if password != \"3822\":\n",
        "        messagebox.showerror(\"Error\", \"Incorrect password\")\n",
        "        return\n",
        "\n",
        "    if not hotel.bookings:\n",
        "        messagebox.showinfo(\"No Bookings\", \"No bookings available.\")\n",
        "        return\n",
        "\n",
        "    reg_id = simpledialog.askinteger(\"Receipt\", \"Enter Registration ID:\")\n",
        "    try:\n",
        "        hotel.generate_pdf_receipt(reg_id)\n",
        "        messagebox.showinfo(\"Success\", f\"Receipt for Reg ID {reg_id} generated.\")\n",
        "    except Exception as e:\n",
        "        messagebox.showerror(\"Error\", str(e))\n",
        "\n",
        "def show_admin_bookings():\n",
        "    password = simpledialog.askstring(\"Admin\", \"Enter admin password:\", show='*')\n",
        "    if password != \"3822\":\n",
        "        messagebox.showerror(\"Error\", \"Incorrect password\")\n",
        "        return\n",
        "\n",
        "    output = \"\"\n",
        "    for b in hotel.bookings:\n",
        "        total = int(b.duration) * b.room.price\n",
        "        output += f\"Reg No: {b.reg_no}, Name: {b.customer.get_details()['Name']}, Room: {b.room.room_number}, Total: Rs.{total}\\n\"\n",
        "    messagebox.showinfo(\"Admin View\", output or \"No bookings.\")\n",
        "\n",
        "# GUI setup\n",
        "root = tk.Tk()\n",
        "root.title(\"Hotel Booking System\")\n",
        "root.geometry(\"400x400\")\n",
        "\n",
        "tk.Label(root, text=\"The Grand Heritage Hotel\", font=(\"Arial\", 16)).pack(pady=10)\n",
        "\n",
        "tk.Button(root, text=\"Book Room\", width=25, command=book_room).pack(pady=5)\n",
        "tk.Button(root, text=\"Cancel Booking\", width=25, command=cancel_booking).pack(pady=5)\n",
        "tk.Button(root, text=\"Show All Bookings\", width=25, command=show_all_bookings).pack(pady=5)\n",
        "tk.Button(root, text=\"Show Bookings (Admin)\", width=25, command=show_admin_bookings).pack(pady=5)\n",
        "tk.Button(root, text=\"Print Receipt (Admin)\", width=25, command=print_receipt).pack(pady=5)\n",
        "tk.Button(root, text=\"Exit\", width=25, command=root.quit).pack(pady=20)\n",
        "\n",
        "root.mainloop()\n"
      ]
    },
    {
      "cell_type": "code",
      "source": [],
      "metadata": {
        "id": "vxqWeKPYVokq"
      },
      "execution_count": null,
      "outputs": []
    }
  ]
}